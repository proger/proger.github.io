{
 "cells": [
  {
   "cell_type": "raw",
   "metadata": {},
   "source": [
    "---\n",
    "title: Chunked Scan\n",
    "author: \"Volodymyr Kyrylov\"\n",
    "date: \"2023-12-29\"\n",
    "jupyter: python3\n",
    "categories: [rnn]\n",
    "toc: true\n",
    "---"
   ]
  },
  {
   "cell_type": "markdown",
   "metadata": {},
   "source": [
    "We have a linear recurrence:\n",
    "\n",
    "$ x_t = \\lambda_t \\cdot x_{t-1} + u_t$"
   ]
  },
  {
   "cell_type": "markdown",
   "metadata": {},
   "source": [
    "We would like to evaluate it in chunks of $T$ elements: one chunk is evaluated by one processor. When all chunks are ready, one processor can integrate results of another.\n",
    "\n",
    "Let $x_{-1}$ be the final element of the previous chunk. We're ready to define the chunked recursion inductively:"
   ]
  },
  {
   "cell_type": "markdown",
   "metadata": {},
   "source": [
    "The base case:\n",
    "\n",
    "$x_0 = \\lambda_0 x_{-1} + u_0$ \n",
    "\n",
    "Here $\\bar{x}_0 := \\lambda_0 x_{-1}$ can be seen as a _port_, where we will _connect_ the previous chunk. By linearity we can treat $x'_0 := u_0$ as a base case of the chunk.\n",
    "\n",
    "Using associativity we have:\n",
    "\n",
    "$x_1 = \\lambda_1 \\lambda_0 x_{-1} + \\lambda_1 u_0 + u_1$\n",
    "\n",
    "\n",
    "$x_T = \\prod_{i=1}^{i=T}\\lambda_i \\bar{x}_0 + \\lambda_t x'_{T-1} + u_T $\n",
    "\n",
    "\n",
    "This leads us to the following algorithm:\n",
    "\n",
    "1. compute the recurrence for $x'_T$\n",
    "2. compute cumulative products (e.g. using a zero-order scan) for $\\Lambda_t := \\prod_{i=0}^{i=t}\\lambda_i$\n",
    "3. receive the value of $x_{-1}$ from the previous neighbor\n",
    "4. compute $x_t = \\Lambda_t  x_{-1} + x'_t$\n",
    "5. send the value of $x_T$ to the next neighbor"
   ]
  },
  {
   "cell_type": "markdown",
   "metadata": {},
   "source": [
    "References: \n",
    "\n",
    "[Ble93] Prefix Sums and Their Applications. Guy E. Blelloch https://www.cs.cmu.edu/~guyb/papers/Ble93.pdf"
   ]
  }
 ],
 "metadata": {
  "kernelspec": {
   "display_name": "Python 3",
   "language": "python",
   "name": "python3"
  },
  "language_info": {
   "codemirror_mode": {
    "name": "ipython",
    "version": 3
   },
   "file_extension": ".py",
   "mimetype": "text/x-python",
   "name": "python",
   "nbconvert_exporter": "python",
   "pygments_lexer": "ipython3",
   "version": "3.10.12"
  },
  "orig_nbformat": 4
 },
 "nbformat": 4,
 "nbformat_minor": 2
}
